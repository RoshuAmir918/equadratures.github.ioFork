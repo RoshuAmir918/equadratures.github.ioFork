{
 "cells": [
  {
   "cell_type": "markdown",
   "id": "centered-terry",
   "metadata": {},
   "source": [
    "## Active subspaces\n",
    "Active subspaces represent a powerful set of ideas for output-based data-driven dimension reduction. "
   ]
  },
  {
   "cell_type": "code",
   "execution_count": null,
   "id": "subsequent-wallace",
   "metadata": {},
   "outputs": [],
   "source": [
    "import plotly.express as px\n",
    "import matplotlib.pyplot as plt\n",
    "import numpy as np\n",
    "import pandas as pd\n",
    "import equadratures as eq"
   ]
  },
  {
   "cell_type": "code",
   "execution_count": null,
   "id": "instant-mineral",
   "metadata": {},
   "outputs": [],
   "source": [
    "data = eq.datasets.load_eq_dataset('3Dfan_blades',verbose=False) # Download the data\n",
    "X = data['X_a']\n",
    "y = data['y1_a']\n",
    "\n",
    "# Active subspace computation\n",
    "sub = eq.Subspaces(sample_points=X, sample_outputs=y, \\\n",
    "                   method='active-subspaces')\n",
    "W = sub.get_subspace()"
   ]
  },
  {
   "cell_type": "code",
   "execution_count": null,
   "id": "desperate-association",
   "metadata": {},
   "outputs": [],
   "source": [
    "# Plotting \n",
    "\n",
    "df = pd.DataFrame({'Eigenvalues (log)': np.log10(np.abs(sub.get_eigenvalues())) , \n",
    "                   'Parameter #': np.arange(X.shape[1])})\n",
    "df2 = pd.DataFrame({'Active-1': X @ W[:,0], \n",
    "                    'Active-2': X @ W[:,1], \n",
    "                    'Efficiency': y})"
   ]
  },
  {
   "cell_type": "code",
   "execution_count": null,
   "id": "sensitive-appreciation",
   "metadata": {},
   "outputs": [],
   "source": [
    "fig = px.scatter(df, x=\"Parameter #\", y=\"Eigenvalues (log)\", color=\"Eigenvalues (log)\")\n",
    "fig.update_layout(margin=dict(l=0, r=0, t=0, b=0))\n",
    "fig.show()"
   ]
  },
  {
   "cell_type": "code",
   "execution_count": null,
   "id": "dying-syracuse",
   "metadata": {},
   "outputs": [],
   "source": [
    "fig = px.scatter_3d(df2, x='Active-1', y='Active-2', z='Efficiency',\n",
    "                    color='Efficiency')\n",
    "fig.update_layout(margin=dict(l=0, r=0, t=0, b=0))\n",
    "fig.show()"
   ]
  }
 ],
 "metadata": {
  "kernelspec": {
   "display_name": "Python 3 (ipykernel)",
   "language": "python",
   "name": "python3"
  },
  "language_info": {
   "codemirror_mode": {
    "name": "ipython",
    "version": 3
   },
   "file_extension": ".py",
   "mimetype": "text/x-python",
   "name": "python",
   "nbconvert_exporter": "python",
   "pygments_lexer": "ipython3",
   "version": "3.10.4"
  },
  "vscode": {
   "interpreter": {
    "hash": "585ca2e482001ad9f6647ab673d39139063f26a6f602fc8a72a1a4a7ddf1315d"
   }
  }
 },
 "nbformat": 4,
 "nbformat_minor": 5
}
