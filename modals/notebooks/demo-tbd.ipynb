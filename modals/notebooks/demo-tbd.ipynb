{
 "cells": [
  {
   "cell_type": "markdown",
   "id": "8a768e9e",
   "metadata": {},
   "source": [
    "## Polynomial processes [GPs]"
   ]
  },
  {
   "cell_type": "markdown",
   "id": "1f19b337",
   "metadata": {},
   "source": [
    "This notebook explores the idea of using Gaussian processes with polynomial expansions as kernel functions. "
   ]
  },
  {
   "cell_type": "code",
   "execution_count": 67,
   "id": "b817086b",
   "metadata": {},
   "outputs": [],
   "source": [
    "from equadratures import *\n",
    "import matplotlib.pyplot as plt"
   ]
  },
  {
   "cell_type": "markdown",
   "id": "545ce090",
   "metadata": {},
   "source": [
    "For illustrative purposes consider, the function below"
   ]
  },
  {
   "cell_type": "code",
   "execution_count": 70,
   "id": "590e5f76",
   "metadata": {},
   "outputs": [],
   "source": [
    "parameter = Parameter(lower=-5, upper=5, order=20)\n",
    "basis = Basis('univariate')\n",
    "poly = Poly(parameter, basis, method='numerical-integration')\n",
    "\n",
    "def squared_exp(sigma, l, r):\n",
    "    return sigma**2 * np.exp(-0.5 * l**2 * r**2)\n",
    "\n",
    "def polyfit(sigma, l, r):\n",
    "    func =  lambda r : squared_exp(sigma, l, r)\n",
    "    poly.set_model(func)\n",
    "    return poly.get_polyfit(r)\n",
    "\n",
    "def kernel(sigma, l, X, Xp):\n",
    "    m, n = X.shape[0], Xp.shape[1]\n",
    "    K = np.zeros((m, n))\n",
    "    for j in range(0, n):\n",
    "        polyfit(sigma, l, X - Xp[j,:])\n",
    "    "
   ]
  },
  {
   "cell_type": "markdown",
   "id": "355cd8ac",
   "metadata": {},
   "source": [
    "Using a small number of samples, our goal is to arrive at the same resolution as the function above. To begin, we define the support, i.e.,"
   ]
  },
  {
   "cell_type": "code",
   "execution_count": 71,
   "id": "03dbddc5",
   "metadata": {},
   "outputs": [],
   "source": [
    "x = Parameter(lower=0, upper=2*np.pi, order=100)\n",
    "b = Basis('univariate')\n",
    "poly = Poly(x, b, method='numerical-integration')\n",
    "poly.set_model(fun)\n",
    "yp = poly.get_polyfit(xi)\n",
    "\n",
    "sigma_data = 1e-3\n",
    "U = poly.coefficients.shape[0]\n",
    "prior_mu = np.zeros((U,1))\n",
    "prior_mu[0] = 3.5\n",
    "prior_cov = 0.00001 * np.diag(np.ones((U)))\n",
    "inv_prior_cov = np.linalg.inv(prior_cov)"
   ]
  },
  {
   "cell_type": "code",
   "execution_count": 72,
   "id": "023708d9",
   "metadata": {},
   "outputs": [],
   "source": [
    "x3 = Parameter(lower=0, upper=2*np.pi, order=70)\n",
    "b3 = Basis('univariate')\n",
    "poly3 = Poly(x3, b3, method='numerical-integration')"
   ]
  },
  {
   "cell_type": "code",
   "execution_count": 73,
   "id": "7d7a9e39",
   "metadata": {},
   "outputs": [],
   "source": [
    "pts = poly3.get_points()\n",
    "training_outputs = fun(pts)\n",
    "P = poly.get_poly(pts).T\n",
    "        \n",
    "A = 1./sigma_data**2 * P.T @ P + inv_prior_cov\n",
    "\n",
    "posterior_cov = np.linalg.inv(A)\n",
    "posterior_mu = posterior_cov @ (1./sigma_data ** 2 * P.T @ training_outputs + inv_prior_cov @ prior_mu)"
   ]
  },
  {
   "cell_type": "code",
   "execution_count": 32,
   "id": "b5b7161f",
   "metadata": {},
   "outputs": [],
   "source": [
    "xi = np.linspace(0, 2 * np.pi, 1500)"
   ]
  },
  {
   "cell_type": "code",
   "execution_count": 74,
   "id": "8b1457ee",
   "metadata": {},
   "outputs": [
    {
     "data": {
      "image/png": "[encoded data removed]",
      "text/plain": [
       "<Figure size 1000x400 with 1 Axes>"
      ]
     },
     "metadata": {
      "needs_background": "light"
     },
     "output_type": "display_data"
    }
   ],
   "source": [
    "fig = plt.figure(figsize=(10,4))\n",
    "plt.plot(xi, poly.get_poly(xi).T @ posterior_mu)\n",
    "plt.show()"
   ]
  },
  {
   "cell_type": "code",
   "execution_count": null,
   "id": "345df8c7",
   "metadata": {},
   "outputs": [],
   "source": []
  },
  {
   "cell_type": "code",
   "execution_count": null,
   "id": "a701b7d3",
   "metadata": {},
   "outputs": [],
   "source": [
    "fig = plt.figure(figsize=(10,4))\n",
    "plt.plot(xi, fun(xi) - yp.flatten(), 'k=')\n",
    "plt.title('Error')\n",
    "plt.show()"
   ]
  },
  {
   "cell_type": "code",
   "execution_count": null,
   "id": "101c87c2",
   "metadata": {},
   "outputs": [],
   "source": []
  },
  {
   "cell_type": "code",
   "execution_count": null,
   "id": "4d50f456",
   "metadata": {},
   "outputs": [],
   "source": []
  }
 ],
 "metadata": {
  "kernelspec": {
   "display_name": "Python 3 (ipykernel)",
   "language": "python",
   "name": "python3"
  },
  "language_info": {
   "codemirror_mode": {
    "name": "ipython",
    "version": 3
   },
   "file_extension": ".py",
   "mimetype": "text/x-python",
   "name": "python",
   "nbconvert_exporter": "python",
   "pygments_lexer": "ipython3",
   "version": "3.11.1"
  }
 },
 "nbformat": 4,
 "nbformat_minor": 5
}
